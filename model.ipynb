{
 "cells": [
  {
   "cell_type": "code",
   "execution_count": 16,
   "metadata": {},
   "outputs": [],
   "source": [
    "import pandas as pd\n",
    "import numpy as np\n",
    "from sklearn.model_selection import train_test_split\n",
    "from sklearn.preprocessing import StandardScaler\n",
    "from keras.models import Sequential\n",
    "from keras.layers import Dense, Dropout\n",
    "from keras.callbacks import ModelCheckpoint\n",
    "from sklearn.metrics import mean_squared_error, accuracy_score, precision_score, recall_score, f1_score\n"
   ]
  },
  {
   "cell_type": "code",
   "execution_count": 17,
   "metadata": {},
   "outputs": [],
   "source": [
    "# Membaca data gempa dari file CSV\n",
    "data = pd.read_excel('gempa.xlsx')"
   ]
  },
  {
   "cell_type": "code",
   "execution_count": 18,
   "metadata": {},
   "outputs": [],
   "source": [
    "# Mengambil fitur-fitur yang akan digunakan untuk pelatihan model\n",
    "features = data[['Latitude', 'Longitude', 'Magnitude', 'Depth (km)']]\n",
    "target = data['Phase Count']"
   ]
  },
  {
   "cell_type": "code",
   "execution_count": 20,
   "metadata": {},
   "outputs": [],
   "source": [
    "# Memisahkan data menjadi data latih dan data uji\n",
    "X_train, X_test, y_train, y_test = train_test_split(features, target, test_size=0.2, random_state=42)"
   ]
  },
  {
   "cell_type": "code",
   "execution_count": 21,
   "metadata": {},
   "outputs": [],
   "source": [
    "# Melakukan penskalaan fitur menggunakan StandardScaler\n",
    "scaler = StandardScaler()\n",
    "X_train_scaled = scaler.fit_transform(X_train)\n",
    "X_test_scaled = scaler.transform(X_test)"
   ]
  },
  {
   "cell_type": "code",
   "execution_count": 28,
   "metadata": {},
   "outputs": [],
   "source": [
    "# Membangun arsitektur model jaringan saraf tiruan\n",
    "model = Sequential()\n",
    "model.add(Dense(256, activation='relu', input_dim=4))\n",
    "model.add(Dropout(0.3))\n",
    "model.add(Dense(256, activation='relu'))\n",
    "model.add(Dropout(0.3))\n",
    "model.add(Dense(1, activation='linear'))"
   ]
  },
  {
   "cell_type": "code",
   "execution_count": 29,
   "metadata": {},
   "outputs": [],
   "source": [
    "# Mengkompilasi model\n",
    "model.compile(loss='mean_squared_error', optimizer='adam')\n",
    "\n",
    "# Menyimpan model dengan bobot terbaik selama pelatihan\n",
    "checkpoint = ModelCheckpoint('model_disaster_shield.h5', save_best_only=True)"
   ]
  },
  {
   "cell_type": "code",
   "execution_count": 30,
   "metadata": {},
   "outputs": [
    {
     "name": "stdout",
     "output_type": "stream",
     "text": [
      "Epoch 1/100\n",
      "864/864 [==============================] - 10s 8ms/step - loss: 1183.5265 - val_loss: 1096.6740\n",
      "Epoch 2/100\n",
      "864/864 [==============================] - 6s 7ms/step - loss: 1083.5325 - val_loss: 1043.0096\n",
      "Epoch 3/100\n",
      "864/864 [==============================] - 6s 7ms/step - loss: 1031.6213 - val_loss: 1005.0883\n",
      "Epoch 4/100\n",
      "864/864 [==============================] - 6s 7ms/step - loss: 971.4759 - val_loss: 928.9561\n",
      "Epoch 5/100\n",
      "864/864 [==============================] - 6s 7ms/step - loss: 932.8641 - val_loss: 910.5458\n",
      "Epoch 6/100\n",
      "864/864 [==============================] - 6s 7ms/step - loss: 892.3536 - val_loss: 834.2139\n",
      "Epoch 7/100\n",
      "864/864 [==============================] - 6s 7ms/step - loss: 869.6348 - val_loss: 803.3900\n",
      "Epoch 8/100\n",
      "864/864 [==============================] - 9s 10ms/step - loss: 849.3569 - val_loss: 789.5916\n",
      "Epoch 9/100\n",
      "864/864 [==============================] - 12s 14ms/step - loss: 830.1064 - val_loss: 762.3657\n",
      "Epoch 10/100\n",
      "864/864 [==============================] - 9s 10ms/step - loss: 828.3144 - val_loss: 755.4597\n",
      "Epoch 11/100\n",
      "864/864 [==============================] - 8s 9ms/step - loss: 805.9374 - val_loss: 746.7442\n",
      "Epoch 12/100\n",
      "864/864 [==============================] - 6s 7ms/step - loss: 791.1451 - val_loss: 735.9346\n",
      "Epoch 13/100\n",
      "864/864 [==============================] - 6s 7ms/step - loss: 803.0204 - val_loss: 724.0513\n",
      "Epoch 14/100\n",
      "864/864 [==============================] - 6s 7ms/step - loss: 782.5136 - val_loss: 726.1029\n",
      "Epoch 15/100\n",
      "864/864 [==============================] - 6s 7ms/step - loss: 778.9108 - val_loss: 721.6315\n",
      "Epoch 16/100\n",
      "864/864 [==============================] - 6s 7ms/step - loss: 784.1030 - val_loss: 743.5491\n",
      "Epoch 17/100\n",
      "864/864 [==============================] - 7s 8ms/step - loss: 773.7540 - val_loss: 757.0447\n",
      "Epoch 18/100\n",
      "864/864 [==============================] - 6s 7ms/step - loss: 773.3195 - val_loss: 716.9376\n",
      "Epoch 19/100\n",
      "864/864 [==============================] - 6s 7ms/step - loss: 766.0864 - val_loss: 713.1028\n",
      "Epoch 20/100\n",
      "864/864 [==============================] - 6s 7ms/step - loss: 766.8834 - val_loss: 736.3592\n",
      "Epoch 21/100\n",
      "864/864 [==============================] - 6s 7ms/step - loss: 751.8636 - val_loss: 688.1862\n",
      "Epoch 22/100\n",
      "864/864 [==============================] - 6s 7ms/step - loss: 749.3783 - val_loss: 694.7421\n",
      "Epoch 23/100\n",
      "864/864 [==============================] - 8s 10ms/step - loss: 757.1024 - val_loss: 693.0115\n",
      "Epoch 24/100\n",
      "864/864 [==============================] - 12s 14ms/step - loss: 739.5057 - val_loss: 716.3411\n",
      "Epoch 25/100\n",
      "864/864 [==============================] - 10s 11ms/step - loss: 760.8105 - val_loss: 710.0143\n",
      "Epoch 26/100\n",
      "864/864 [==============================] - 13s 15ms/step - loss: 749.0522 - val_loss: 675.2345\n",
      "Epoch 27/100\n",
      "864/864 [==============================] - 12s 13ms/step - loss: 743.1974 - val_loss: 683.2745\n",
      "Epoch 28/100\n",
      "864/864 [==============================] - 9s 11ms/step - loss: 741.7256 - val_loss: 675.5672\n",
      "Epoch 29/100\n",
      "864/864 [==============================] - 8s 10ms/step - loss: 743.1597 - val_loss: 693.5529\n",
      "Epoch 30/100\n",
      "864/864 [==============================] - 11s 13ms/step - loss: 727.6363 - val_loss: 689.5161\n",
      "Epoch 31/100\n",
      "864/864 [==============================] - 12s 13ms/step - loss: 730.6617 - val_loss: 691.9503\n",
      "Epoch 32/100\n",
      "864/864 [==============================] - 9s 10ms/step - loss: 733.0481 - val_loss: 675.1915\n",
      "Epoch 33/100\n",
      "864/864 [==============================] - 8s 9ms/step - loss: 717.2028 - val_loss: 670.9867\n",
      "Epoch 34/100\n",
      "864/864 [==============================] - 7s 8ms/step - loss: 723.5649 - val_loss: 666.3363\n",
      "Epoch 35/100\n",
      "864/864 [==============================] - 6s 7ms/step - loss: 722.2259 - val_loss: 702.5254\n",
      "Epoch 36/100\n",
      "864/864 [==============================] - 6s 7ms/step - loss: 716.1097 - val_loss: 665.8911\n",
      "Epoch 37/100\n",
      "864/864 [==============================] - 6s 7ms/step - loss: 722.8208 - val_loss: 665.9409\n",
      "Epoch 38/100\n",
      "864/864 [==============================] - 6s 7ms/step - loss: 720.7875 - val_loss: 663.7795\n",
      "Epoch 39/100\n",
      "864/864 [==============================] - 6s 7ms/step - loss: 709.1590 - val_loss: 676.3622\n",
      "Epoch 40/100\n",
      "864/864 [==============================] - 12s 13ms/step - loss: 720.1034 - val_loss: 667.1203\n",
      "Epoch 41/100\n",
      "864/864 [==============================] - 12s 14ms/step - loss: 709.7280 - val_loss: 662.8218\n",
      "Epoch 42/100\n",
      "864/864 [==============================] - 13s 15ms/step - loss: 698.4500 - val_loss: 654.8721\n",
      "Epoch 43/100\n",
      "864/864 [==============================] - 16s 19ms/step - loss: 703.4594 - val_loss: 658.8445\n",
      "Epoch 44/100\n",
      "864/864 [==============================] - 14s 16ms/step - loss: 714.1019 - val_loss: 655.4396\n",
      "Epoch 45/100\n",
      "864/864 [==============================] - 9s 11ms/step - loss: 703.8662 - val_loss: 665.3865\n",
      "Epoch 46/100\n",
      "864/864 [==============================] - 9s 11ms/step - loss: 693.5944 - val_loss: 685.8103\n",
      "Epoch 47/100\n",
      "864/864 [==============================] - 10s 11ms/step - loss: 689.8259 - val_loss: 648.1051\n",
      "Epoch 48/100\n",
      "864/864 [==============================] - 9s 10ms/step - loss: 709.1155 - val_loss: 656.9305\n",
      "Epoch 49/100\n",
      "864/864 [==============================] - 8s 9ms/step - loss: 697.5753 - val_loss: 677.9622\n",
      "Epoch 50/100\n",
      "864/864 [==============================] - 6s 7ms/step - loss: 687.2669 - val_loss: 648.8749\n",
      "Epoch 51/100\n",
      "864/864 [==============================] - 6s 7ms/step - loss: 700.4227 - val_loss: 656.2390\n",
      "Epoch 52/100\n",
      "864/864 [==============================] - 6s 7ms/step - loss: 677.2894 - val_loss: 654.3616\n",
      "Epoch 53/100\n",
      "864/864 [==============================] - 6s 7ms/step - loss: 685.1350 - val_loss: 645.6197\n",
      "Epoch 54/100\n",
      "864/864 [==============================] - 6s 7ms/step - loss: 702.3288 - val_loss: 649.7836\n",
      "Epoch 55/100\n",
      "864/864 [==============================] - 6s 7ms/step - loss: 681.1616 - val_loss: 648.8701\n",
      "Epoch 56/100\n",
      "864/864 [==============================] - 6s 7ms/step - loss: 692.7693 - val_loss: 669.5100\n",
      "Epoch 57/100\n",
      "864/864 [==============================] - 6s 7ms/step - loss: 683.3381 - val_loss: 641.3311\n",
      "Epoch 58/100\n",
      "864/864 [==============================] - 6s 7ms/step - loss: 677.9414 - val_loss: 650.3776\n",
      "Epoch 59/100\n",
      "864/864 [==============================] - 6s 7ms/step - loss: 692.4136 - val_loss: 651.6277\n",
      "Epoch 60/100\n",
      "864/864 [==============================] - 6s 7ms/step - loss: 665.4730 - val_loss: 640.5635\n",
      "Epoch 61/100\n",
      "864/864 [==============================] - 6s 7ms/step - loss: 668.3143 - val_loss: 634.6147\n",
      "Epoch 62/100\n",
      "864/864 [==============================] - 7s 9ms/step - loss: 676.6004 - val_loss: 635.5347\n",
      "Epoch 63/100\n",
      "864/864 [==============================] - 8s 9ms/step - loss: 667.4998 - val_loss: 643.2476\n",
      "Epoch 64/100\n",
      "864/864 [==============================] - 7s 8ms/step - loss: 669.7607 - val_loss: 641.4062\n",
      "Epoch 65/100\n",
      "864/864 [==============================] - 7s 8ms/step - loss: 673.1619 - val_loss: 652.5604\n",
      "Epoch 66/100\n",
      "864/864 [==============================] - 6s 7ms/step - loss: 671.4451 - val_loss: 660.7708\n",
      "Epoch 67/100\n",
      "864/864 [==============================] - 6s 7ms/step - loss: 668.1970 - val_loss: 635.4962\n",
      "Epoch 68/100\n",
      "864/864 [==============================] - 6s 7ms/step - loss: 662.8774 - val_loss: 652.3533\n",
      "Epoch 69/100\n",
      "864/864 [==============================] - 6s 7ms/step - loss: 651.7897 - val_loss: 622.2330\n",
      "Epoch 70/100\n",
      "864/864 [==============================] - 6s 7ms/step - loss: 646.0344 - val_loss: 639.6777\n",
      "Epoch 71/100\n",
      "864/864 [==============================] - 7s 8ms/step - loss: 665.7929 - val_loss: 636.0987\n",
      "Epoch 72/100\n",
      "864/864 [==============================] - 8s 9ms/step - loss: 658.9045 - val_loss: 630.6827\n",
      "Epoch 73/100\n",
      "864/864 [==============================] - 6s 7ms/step - loss: 649.4346 - val_loss: 619.8743\n",
      "Epoch 74/100\n",
      "864/864 [==============================] - 6s 7ms/step - loss: 651.3804 - val_loss: 754.1393\n",
      "Epoch 75/100\n",
      "864/864 [==============================] - 6s 7ms/step - loss: 659.8279 - val_loss: 630.7466\n",
      "Epoch 76/100\n",
      "864/864 [==============================] - 6s 7ms/step - loss: 650.8240 - val_loss: 615.2724\n",
      "Epoch 77/100\n",
      "864/864 [==============================] - 6s 7ms/step - loss: 651.1812 - val_loss: 616.8398\n",
      "Epoch 78/100\n",
      "864/864 [==============================] - 6s 7ms/step - loss: 651.7515 - val_loss: 630.1725\n",
      "Epoch 79/100\n",
      "864/864 [==============================] - 6s 6ms/step - loss: 648.2097 - val_loss: 644.1504\n",
      "Epoch 80/100\n",
      "864/864 [==============================] - 6s 7ms/step - loss: 643.3044 - val_loss: 621.5442\n",
      "Epoch 81/100\n",
      "864/864 [==============================] - 6s 7ms/step - loss: 644.0955 - val_loss: 648.0825\n",
      "Epoch 82/100\n",
      "864/864 [==============================] - 6s 7ms/step - loss: 644.7080 - val_loss: 617.3580\n",
      "Epoch 83/100\n",
      "864/864 [==============================] - 6s 7ms/step - loss: 641.5933 - val_loss: 628.8686\n",
      "Epoch 84/100\n",
      "864/864 [==============================] - 6s 7ms/step - loss: 636.5533 - val_loss: 602.6069\n",
      "Epoch 85/100\n",
      "864/864 [==============================] - 6s 7ms/step - loss: 636.0633 - val_loss: 607.3737\n",
      "Epoch 86/100\n",
      "864/864 [==============================] - 6s 7ms/step - loss: 652.2629 - val_loss: 620.0317\n",
      "Epoch 87/100\n",
      "864/864 [==============================] - 6s 7ms/step - loss: 640.3229 - val_loss: 629.5420\n",
      "Epoch 88/100\n",
      "864/864 [==============================] - 6s 7ms/step - loss: 633.2747 - val_loss: 608.6669\n",
      "Epoch 89/100\n",
      "864/864 [==============================] - 6s 7ms/step - loss: 637.8287 - val_loss: 625.3612\n",
      "Epoch 90/100\n",
      "864/864 [==============================] - 5s 6ms/step - loss: 627.1522 - val_loss: 608.5415\n",
      "Epoch 91/100\n",
      "864/864 [==============================] - 6s 7ms/step - loss: 654.8468 - val_loss: 605.8219\n",
      "Epoch 92/100\n",
      "864/864 [==============================] - 7s 8ms/step - loss: 636.6182 - val_loss: 613.5171\n",
      "Epoch 93/100\n",
      "864/864 [==============================] - 7s 8ms/step - loss: 638.3951 - val_loss: 625.7092\n",
      "Epoch 94/100\n",
      "864/864 [==============================] - 6s 7ms/step - loss: 622.2673 - val_loss: 610.3415\n",
      "Epoch 95/100\n",
      "864/864 [==============================] - 5s 6ms/step - loss: 631.9002 - val_loss: 616.1442\n",
      "Epoch 96/100\n",
      "864/864 [==============================] - 7s 8ms/step - loss: 626.2137 - val_loss: 599.0149\n",
      "Epoch 97/100\n",
      "864/864 [==============================] - 7s 8ms/step - loss: 638.4572 - val_loss: 610.7579\n",
      "Epoch 98/100\n",
      "864/864 [==============================] - 6s 7ms/step - loss: 621.4248 - val_loss: 613.0806\n",
      "Epoch 99/100\n",
      "864/864 [==============================] - 6s 7ms/step - loss: 633.1949 - val_loss: 620.2750\n",
      "Epoch 100/100\n",
      "864/864 [==============================] - 6s 7ms/step - loss: 625.8257 - val_loss: 602.3868\n"
     ]
    },
    {
     "data": {
      "text/plain": [
       "<keras.callbacks.History at 0x263ce1f5a50>"
      ]
     },
     "execution_count": 30,
     "metadata": {},
     "output_type": "execute_result"
    }
   ],
   "source": [
    "# Melatih model\n",
    "model.fit(X_train_scaled, y_train, validation_data=(X_test_scaled, y_test), epochs=100, batch_size=32, callbacks=[checkpoint])"
   ]
  },
  {
   "cell_type": "code",
   "execution_count": 31,
   "metadata": {},
   "outputs": [
    {
     "name": "stdout",
     "output_type": "stream",
     "text": [
      "216/216 [==============================] - 2s 6ms/step\n"
     ]
    }
   ],
   "source": [
    "# Melakukan prediksi pada data uji\n",
    "y_pred = model.predict(X_test_scaled)"
   ]
  },
  {
   "cell_type": "code",
   "execution_count": 34,
   "metadata": {},
   "outputs": [
    {
     "name": "stdout",
     "output_type": "stream",
     "text": [
      "Mean Squared Error: 602.386876632501\n",
      "Accuracy: 0.046336518969012454\n",
      "Precision: 0.058186449531784694\n",
      "Recall: 0.046336518969012454\n",
      "F1-score: 0.04904132980967832\n"
     ]
    }
   ],
   "source": [
    "#METRIKS PENGUJIA\n",
    "# Menghitung Mean Squared Error (MSE)\n",
    "# Menghitung Mean Squared Error (MSE)\n",
    "mse = mean_squared_error(y_test, y_pred)\n",
    "print(\"Mean Squared Error:\", mse)\n",
    "\n",
    "# Menghitung Accuracy\n",
    "accuracy = accuracy_score(y_test, np.round(y_pred))\n",
    "print(\"Accuracy:\", accuracy)\n",
    "\n",
    "# Menghitung Precision\n",
    "precision = precision_score(y_test, np.round(y_pred), average='weighted', zero_division=0)\n",
    "print(\"Precision:\", precision)\n",
    "\n",
    "# Menghitung Recall\n",
    "recall = recall_score(y_test, np.round(y_pred), average='weighted', zero_division=0)\n",
    "print(\"Recall:\", recall)\n",
    "\n",
    "# Menghitung F1-score\n",
    "f1 = f1_score(y_test, np.round(y_pred), average='weighted')\n",
    "print(\"F1-score:\", f1)\n",
    "\n"
   ]
  },
  {
   "cell_type": "code",
   "execution_count": 35,
   "metadata": {},
   "outputs": [],
   "source": [
    "# Menyimpan model ke file\n",
    "\n",
    "model.save('disaster_shield.h5')"
   ]
  },
  {
   "cell_type": "code",
   "execution_count": 36,
   "metadata": {},
   "outputs": [
    {
     "name": "stderr",
     "output_type": "stream",
     "text": [
      "WARNING:absl:Found untraced functions such as _update_step_xla while saving (showing 1 of 1). These functions will not be directly callable after loading.\n"
     ]
    },
    {
     "name": "stdout",
     "output_type": "stream",
     "text": [
      "INFO:tensorflow:Assets written to: C:\\Users\\hp\\AppData\\Local\\Temp\\tmpaovzi9dz\\assets\n"
     ]
    },
    {
     "name": "stderr",
     "output_type": "stream",
     "text": [
      "INFO:tensorflow:Assets written to: C:\\Users\\hp\\AppData\\Local\\Temp\\tmpaovzi9dz\\assets\n"
     ]
    }
   ],
   "source": [
    "import tensorflow as tf\n",
    "# Konversi model ke format TFLite\n",
    "converter = tf.lite.TFLiteConverter.from_keras_model(model)\n",
    "tflite_model = converter.convert()\n",
    "\n",
    "# Menyimpan model TFLite ke file\n",
    "with open('model_disaster_shield.tflite', 'wb') as file:\n",
    "    file.write(tflite_model)"
   ]
  }
 ],
 "metadata": {
  "kernelspec": {
   "display_name": "Python 3",
   "language": "python",
   "name": "python3"
  },
  "language_info": {
   "codemirror_mode": {
    "name": "ipython",
    "version": 3
   },
   "file_extension": ".py",
   "mimetype": "text/x-python",
   "name": "python",
   "nbconvert_exporter": "python",
   "pygments_lexer": "ipython3",
   "version": "3.11.1"
  },
  "orig_nbformat": 4
 },
 "nbformat": 4,
 "nbformat_minor": 2
}
